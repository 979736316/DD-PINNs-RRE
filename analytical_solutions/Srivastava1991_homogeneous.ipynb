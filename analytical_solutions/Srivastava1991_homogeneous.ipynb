{
 "cells": [
  {
   "cell_type": "markdown",
   "metadata": {},
   "source": [
    "This Jupyter notebook describes the derivation of the analytical solution by Srivastva and Yeh, 1991 used to verify PINNs for a homogeneous soil. "
   ]
  },
  {
   "cell_type": "code",
   "execution_count": 1,
   "metadata": {},
   "outputs": [],
   "source": [
    "import numpy as np\n",
    "import scipy.io\n",
    "import timeit\n",
    "import sys\n",
    "import matplotlib.pyplot as plt\n",
    "from scipy.interpolate import griddata\n",
    "import random\n",
    "import seaborn as sns\n",
    "import pandas as pd\n",
    "import mpmath"
   ]
  },
  {
   "cell_type": "markdown",
   "metadata": {},
   "source": [
    "The analytical solution is based on the following constituitive relationships:\n",
    "\\begin{equation}\n",
    "K_* = K_s e^{\\alpha \\psi},\n",
    "\\end{equation}\n",
    "\n",
    "\\begin{equation}\n",
    "\\theta = \\theta_r + (\\theta_s - \\theta_r) e^{\\alpha \\psi},\n",
    "\\end{equation}\n",
    "where $K_s$ is the saturated hydraulic conductivity, $\\theta_r$ is the residual water content, $\\theta_s$ is the saturated water content, $\\alpha$ is a pore-size distribution parameter. Using the constituitive relationships, the RRE is linearlized.\n",
    "\n",
    "As for homogeneous soil, dimensionless parameters are introduced:\n",
    "\\begin{equation}\n",
    "z = \\alpha z_* \\text{   so that   } L = \\alpha L_*,\n",
    "\\end{equation}\n",
    "\n",
    "\\begin{equation}\n",
    "K = K_{*}/K_{s},  q_{A} = q_{A*}/K_{s},  q_{B} = q_{B*}/K_{s},\n",
    "\\end{equation}\n",
    "\n",
    "\\begin{equation}\n",
    "t = \\frac{\\alpha K_{s}t_*}{\\theta_{s} - \\theta_{r}}.\n",
    "\\end{equation}\n",
    "\n",
    "The governing equation is:\n",
    "\\begin{equation}\n",
    "\\frac{\\partial^2 K}{\\partial z^2} + \\frac{\\partial K}{\\partial z} = \\frac{\\partial K}{\\partial t}.\n",
    "\\end{equation}\n",
    "\n",
    "\n",
    "\n",
    "The initial and boundary conditions are\n",
    "\\begin{equation}\n",
    "K(z, 0) = q_A - (q_A - e^{\\alpha \\psi_0})e^{-z} = K_0(z),\n",
    "\\end{equation}\n",
    "\\begin{equation}\n",
    "K(0, t) = e^{\\alpha \\psi_0},\n",
    "\\end{equation}\n",
    "\\begin{equation}\n",
    "\\left[\\frac{\\partial K}{\\partial z} + K\\right]_{z = L} = q_B.\n",
    "\\end{equation}"
   ]
  },
  {
   "cell_type": "code",
   "execution_count": 16,
   "metadata": {},
   "outputs": [],
   "source": [
    "# define computational domain\n",
    "dom_coords = np.array([[0.0, 0.0],   # t = 0 hour to t = 10 hours (1st column)\n",
    "                       [10.0, 10.0]]) # 10 cm soil column (2nd column); note that this z coordinate is shifted by 10 cm down in the paper for presentation"
   ]
  },
  {
   "cell_type": "code",
   "execution_count": 5,
   "metadata": {},
   "outputs": [],
   "source": [
    "t_star = np.linspace(dom_coords[0, 0], dom_coords[1, 0], 101)[:, None]\n",
    "z_star = np.linspace(dom_coords[0, 1], dom_coords[1, 1], 101)[:, None]"
   ]
  },
  {
   "cell_type": "code",
   "execution_count": 6,
   "metadata": {},
   "outputs": [],
   "source": [
    "# parameter values\n",
    "alpha = 1.0 # /cm\n",
    "K_s = 1.0 # cm/hour\n",
    "theta_s = 0.40\n",
    "theta_r = 0.06\n",
    "L_star = 10.0 # cm"
   ]
  },
  {
   "cell_type": "code",
   "execution_count": 8,
   "metadata": {},
   "outputs": [],
   "source": [
    "# transformation\n",
    "L = L_star * alpha\n",
    "z = z_star * alpha\n",
    "\n",
    "t = alpha * K_s * t_star/(theta_s - theta_r)"
   ]
  },
  {
   "cell_type": "code",
   "execution_count": 9,
   "metadata": {},
   "outputs": [],
   "source": [
    "t_mesh, z_mesh = np.meshgrid(t, z)"
   ]
  },
  {
   "cell_type": "code",
   "execution_count": 10,
   "metadata": {},
   "outputs": [],
   "source": [
    "# surface water flux condition (positive downward) [cm/hour]\n",
    "q_A_star = 0.1\n",
    "q_B_star = 0.9\n",
    "\n",
    "# pressure at the lower boundary (water table)\n",
    "psi_0 = 0.0\n",
    "\n",
    "q_A = q_A_star / K_s\n",
    "q_B = q_B_star / K_s\n",
    "\n",
    "# initial condition\n",
    "K_ini = q_A - (q_A - np.exp(alpha * psi_0)) * np.exp(-z)\n",
    "psi_ini = np.log(K_ini) /alpha"
   ]
  },
  {
   "cell_type": "code",
   "execution_count": 14,
   "metadata": {},
   "outputs": [
    {
     "data": {
      "text/plain": [
       "Text(0, 0.5, '$z$ cm')"
      ]
     },
     "execution_count": 14,
     "metadata": {},
     "output_type": "execute_result"
    },
    {
     "data": {
      "image/png": "[encoded data removed]",
      "text/plain": [
       "<Figure size 432x288 with 1 Axes>"
      ]
     },
     "metadata": {
      "needs_background": "light"
     },
     "output_type": "display_data"
    }
   ],
   "source": [
    "# initial condition\n",
    "plt.plot(psi_ini, z_star)\n",
    "plt.xlabel(\"$\\psi$ cm\")\n",
    "plt.ylabel(\"$z$ cm\")"
   ]
  },
  {
   "cell_type": "markdown",
   "metadata": {},
   "source": [
    "The values of $\\lambda$ are obtained as the positive roots of the characteristic equation:\n",
    "\\begin{equation}\n",
    "\\tan(\\lambda L) + 2\\lambda = 0.\n",
    "\\end{equation}\n",
    "For $t > 1$, we need to get at least $\\lambda$ < 6 for enough accuracy because $exp(-36)$ is almost the machine precision. However, we obtain $\\lambda$ < 100 for higher accuracies for $t = 0.1$."
   ]
  },
  {
   "cell_type": "code",
   "execution_count": 56,
   "metadata": {},
   "outputs": [],
   "source": [
    "def residue_homogeneous(x):\n",
    "    return np.tan(x*L) + 2*x"
   ]
  },
  {
   "cell_type": "code",
   "execution_count": 57,
   "metadata": {},
   "outputs": [],
   "source": [
    "lam_test = np.arange(0, 100, 0.0001)"
   ]
  },
  {
   "cell_type": "code",
   "execution_count": 58,
   "metadata": {},
   "outputs": [],
   "source": [
    "# two sign changes: one is due to discontinuity, and the other one is the root\n",
    "pd.set_option('display.max_rows', None)\n",
    "data = {\"lam\": lam_test.flatten()[0:-1], \n",
    "        \"sign\": np.sign(residue_homogeneous(lam_test)).flatten()[0:-1],\n",
    "        \"change\": np.sign(residue_homogeneous(lam_test)).flatten()[0:-1] - np.sign(residue_homogeneous(lam_test)).flatten()[1:]}\n",
    "df = pd.DataFrame(data)\n",
    "\n",
    "df.head()\n",
    "\n",
    "# the roots can be found near where the sign changes\n",
    "a_set = df.loc[np.abs(df[\"change\"]) == 2][\"lam\"].values"
   ]
  },
  {
   "cell_type": "code",
   "execution_count": null,
   "metadata": {},
   "outputs": [],
   "source": [
    "# program to find roots using Newton method (solver = 'newton')\n",
    "\n",
    "roots = []\n",
    "index = 0\n",
    "for a in a_set[0:]:   # change the argument to find roots if you encounter errors\n",
    "    print(index)\n",
    "    a = int(a/0.0001)\n",
    "    for i in range(a, a + 5):\n",
    "        initial_value = 0.0001 * (i + 1)\n",
    "        root = mpmath.findroot(lambda x: mpmath.tan(x*L) + 2*x, initial_value, solver = 'newton')\n",
    "        root_value = np.array(root, np.float).tolist()\n",
    "        roots.append(root_value)\n",
    "    index += 1"
   ]
  },
  {
   "cell_type": "code",
   "execution_count": null,
   "metadata": {},
   "outputs": [],
   "source": [
    "# display results\n",
    "set(roots)"
   ]
  },
  {
   "cell_type": "code",
   "execution_count": 61,
   "metadata": {},
   "outputs": [],
   "source": [
    "# these roots are obtained through Newton's method\n",
    "roots = [0.2653662399559064,\n",
    "0.5454353754882809,\n",
    "0.8391345549526213,\n",
    "1.1408626521914211,\n",
    "1.4469868024791293,\n",
    "1.755621326423335,\n",
    "2.0657824324331364,\n",
    "2.3769277625726692,\n",
    "2.688739809262756,\n",
    "3.001022364190637,\n",
    "3.313648417148147,\n",
    "3.6265324493342628,\n",
    "3.93961491987328,\n",
    "4.252853171727988,\n",
    "4.566215881639715,\n",
    "4.879679551398421,\n",
    "5.19322621991024,\n",
    "5.506841930044985,\n",
    "5.820515676125548,\n",
    "6.134238665650236,\n",
    "6.4480037913498744,\n",
    "6.761805247047906,\n",
    "7.075638243734968,\n",
    "7.389498796703592,\n",
    "7.70338356387233,\n",
    "8.017289721521301,\n",
    "8.331214867734014,\n",
    "8.645156946609601,\n",
    "8.959114188222044,\n",
    "9.273085060642874,\n",
    "9.587068231295328,\n",
    "9.901062535591858,\n",
    "10.2150669513044,\n",
    "10.529080577482452,\n",
    "10.843102617005606,\n",
    "11.157132362060738,\n",
    "11.471169181987994,\n",
    "11.785212513057209,\n",
    "12.099261849826535,\n",
    "12.41331673780509,\n",
    "12.727376767195828,\n",
    "13.041441567537703,\n",
    "13.35551080309995,\n",
    "13.669584168908246,\n",
    "13.983661387303913,\n",
    "14.29774220495462,\n",
    "14.611826390249016,\n",
    "14.925913731018978,\n",
    "15.240004032542432,\n",
    "15.554097115787261,\n",
    "15.868192815863045,\n",
    "16.182290980652482,\n",
    "16.496391469598663,\n",
    "16.810494152627868,\n",
    "17.124598909190542,\n",
    "17.438705627405653,\n",
    "17.752814203295586,\n",
    "18.066924540100644,\n",
    "18.381036547663673,\n",
    "18.695150141876553,\n",
    "19.009265244181414,\n",
    "19.323381781120425,\n",
    "19.63749968392866,\n",
    "19.951618888165353,\n",
    "20.265739333379372,\n",
    "20.57986096280527,\n",
    "20.893983723086688,\n",
    "21.208107564024292,\n",
    "21.52223243834576,\n",
    "21.836358301495558,\n",
    "22.150485111442592,\n",
    "22.464612828503963,\n",
    "22.778741415183283,\n",
    "23.092870836022165,\n",
    "23.407001057463642,\n",
    "23.72113204772644,\n",
    "24.03526377668908,\n",
    "24.349396215782953,\n",
    "24.66352933789353,\n",
    "24.977663117269042,\n",
    "25.291797529435947,\n",
    "25.605932551120606,\n",
    "25.920068160176648,\n",
    "26.234204335517557,\n",
    "26.548341057054028,\n",
    "26.86247830563572,\n",
    "27.176616062997027,\n",
    "27.490754311706606,\n",
    "27.804893035120262,\n",
    "28.119032217337043,\n",
    "28.4331718431582,\n",
    "28.74731189804887,\n",
    "29.061452368102216,\n",
    "29.375593240005873,\n",
    "29.68973450101053,\n",
    "30.003876138900473,\n",
    "30.318018141965965,\n",
    "30.63216049897732,\n",
    "30.946303199160557,\n",
    "31.260446232174512,\n",
    "31.57458958808934,\n",
    "31.888733257366248,\n",
    "32.20287723083845,\n",
    "32.5170214996932,\n",
    "32.83116605545488,\n",
    "33.14531088996901,\n",
    "33.4594559953872,\n",
    "33.773601364152924,\n",
    "34.08774698898807,\n",
    "34.401892862880246,\n",
    "34.716038979070746,\n",
    "35.030185331043214,\n",
    "35.34433191251285,\n",
    "35.65847871741622,\n",
    "35.972625739901616,\n",
    "36.286772974319874,\n",
    "36.6009204152157,\n",
    "36.9150680573194,\n",
    "37.22921589553911,\n",
    "37.54336392495329,\n",
    "37.857512140803706,\n",
    "38.1716605384887,\n",
    "38.485809113556805,\n",
    "38.79995786170066,\n",
    "39.11410677875125,\n",
    "39.428255860672344,\n",
    "39.74240510355532,\n",
    "40.056554503614116,\n",
    "40.37070405718046,\n",
    "40.68485376069936,\n",
    "40.99900361072474,\n",
    "41.313153603915296,\n",
    "41.627303737030566,\n",
    "41.94145400692713,\n",
    "42.25560441055504,\n",
    "42.56975494495432,\n",
    "42.88390560725173,\n",
    "43.198056394657556,\n",
    "43.512207304462656,\n",
    "43.82635833403552,\n",
    "44.14050948081954,\n",
    "44.45466074233034,\n",
    "44.76881211615328,\n",
    "45.08296359994099,\n",
    "45.39711519141106,\n",
    "45.711266888343815,\n",
    "46.02541868858015,\n",
    "46.339570590019505,\n",
    "46.65372259061788,\n",
    "46.967874688385955,\n",
    "47.282026881387246,\n",
    "47.59617916773641,\n",
    "47.91033154559751,\n",
    "48.22448401318247,\n",
    "48.53863656874946,\n",
    "48.85278921060147,\n",
    "49.16694193708485,\n",
    "49.481094746587914,\n",
    "49.79524763753967,\n",
    "50.10940060840847,\n",
    "50.42355365770088,\n",
    "50.7377067839604,\n",
    "51.051859985766406,\n",
    "51.366013261733,\n",
    "51.68016661050798,\n",
    "51.994320030771824,\n",
    "52.3084735212367,\n",
    "52.622627080645515,\n",
    "52.936780707771014,\n",
    "53.2509344014149,\n",
    "53.565088160406994,\n",
    "53.87924198360437,\n",
    "54.19339586989064,\n",
    "54.5075498181751,\n",
    "54.8217038273921,\n",
    "55.13585789650022,\n",
    "55.450012024481666,\n",
    "55.76416621034157,\n",
    "56.07832045310735,\n",
    "56.3924747518281,\n",
    "56.70662910557396,\n",
    "57.02078351343559,\n",
    "57.33493797452355,\n",
    "57.649092487967806,\n",
    "57.96324705291716,\n",
    "58.27740166853879,\n",
    "58.59155633401772,\n",
    "58.90571104855634,\n",
    "59.21986581137399,\n",
    "59.53402062170648,\n",
    "59.84817547880565,\n",
    "60.16233038193898,\n",
    "60.47648533038914,\n",
    "60.790640323453665,\n",
    "61.104795360444506,\n",
    "61.4189504406877,\n",
    "61.733105563523004,\n",
    "62.04726072830353,\n",
    "62.36141593439543,\n",
    "62.67557118117758,\n",
    "62.989726468041226,\n",
    "63.303881794389696,\n",
    "63.61803715963811,\n",
    "63.93219256321308,\n",
    "64.24634800455243,\n",
    "64.56050348310492,\n",
    "64.87465899833,\n",
    "65.18881454969755,\n",
    "65.50297013668757,\n",
    "65.81712575879001,\n",
    "66.13128141550456,\n",
    "66.44543710634028,\n",
    "66.75959283081555,\n",
    "67.07374858845772,\n",
    "67.38790437880299,\n",
    "67.70206020139612,\n",
    "68.01621605579035,\n",
    "68.33037194154707,\n",
    "68.64452785823572,\n",
    "68.9586838054336,\n",
    "69.27283978272565,\n",
    "69.58699578970433,\n",
    "69.90115182596942,\n",
    "70.21530789112785,\n",
    "70.52946398479357,\n",
    "70.84362010658734,\n",
    "71.15777625613666,\n",
    "71.47193243307555,\n",
    "71.78608863704447,\n",
    "72.10024486769011,\n",
    "72.41440112466529,\n",
    "72.72855740762886,\n",
    "73.04271371624552,\n",
    "73.35687005018569,\n",
    "73.67102640912546,\n",
    "73.98518279274637,\n",
    "74.2993392007354,\n",
    "74.61349563278475,\n",
    "74.92765208859181,\n",
    "75.24180856785902,\n",
    "75.55596507029377,\n",
    "75.87012159560827,\n",
    "76.18427814351952,\n",
    "76.49843471374913,\n",
    "76.8125913060233,\n",
    "77.12674792007265,\n",
    "77.44090455563219,\n",
    "77.75506121244123,\n",
    "78.06921789024325,\n",
    "78.38337458878587,\n",
    "78.69753130782068,\n",
    "79.0116880471033,\n",
    "79.32584480639318,\n",
    "79.64000158545353,\n",
    "79.95415838405137,\n",
    "80.26831520195728,\n",
    "80.58247203894545,\n",
    "80.89662889479362,\n",
    "81.2107857692829,\n",
    "81.5249426621978,\n",
    "81.83909957332615,\n",
    "82.15325650245903,\n",
    "82.46741344939066,\n",
    "82.78157041391844,\n",
    "83.0957273958428,\n",
    "83.40988439496718,\n",
    "83.72404141109796,\n",
    "84.03819844404445,\n",
    "84.35235549361879,\n",
    "84.66651255963586,\n",
    "84.98066964191335,\n",
    "85.29482674027157,\n",
    "85.60898385453352,\n",
    "85.92314098452475,\n",
    "86.23729813007338,\n",
    "86.55145529101002,\n",
    "86.8656124671677,\n",
    "87.17976965838189,\n",
    "87.49392686449042,\n",
    "87.80808408533342,\n",
    "88.12224132075332,\n",
    "88.43639857059479,\n",
    "88.75055583470467,\n",
    "89.06471311293201,\n",
    "89.37887040512793,\n",
    "89.69302771114567,\n",
    "90.00718503084052,\n",
    "90.32134236406974,\n",
    "90.63549971069263,\n",
    "90.94965707057038,\n",
    "91.26381444356615,\n",
    "91.57797182954491,\n",
    "91.89212922837353,\n",
    "92.20628663992066,\n",
    "92.52044406405676,\n",
    "92.83460150065402,\n",
    "93.14875894958637,\n",
    "93.46291641072942,\n",
    "93.77707388396048,\n",
    "94.09123136915846,\n",
    "94.40538886620391,\n",
    "94.71954637497893,\n",
    "95.03370389536721,\n",
    "95.34786142725397,\n",
    "95.66201897052593,\n",
    "95.9761765250713,\n",
    "96.29033409077971,\n",
    "96.60449166754229,\n",
    "96.91864925525155,\n",
    "97.23280685380138,\n",
    "97.54696446308705,\n",
    "97.86112208300517,\n",
    "98.17527971345366,\n",
    "98.48943735433178,\n",
    "98.80359500554005,\n",
    "99.11775266698021,\n",
    "99.43191033855533,\n",
    "99.7460680201696]"
   ]
  },
  {
   "cell_type": "code",
   "execution_count": 62,
   "metadata": {},
   "outputs": [
    {
     "data": {
      "text/plain": [
       "array([-2.22044605e-16, -1.77635684e-15,  1.77635684e-15,  5.77315973e-15,\n",
       "       -5.32907052e-15,  8.88178420e-16,  4.35207426e-14,  6.12843110e-14,\n",
       "        8.61533067e-14,  7.46069873e-14,  1.42108547e-14, -2.14939178e-13,\n",
       "       -7.99360578e-14, -2.04281037e-13, -4.86721774e-13,  5.48894263e-13,\n",
       "       -3.05533376e-13,  2.57571742e-13,  8.70414851e-14,  8.61533067e-13,\n",
       "        2.48689958e-13, -8.34887715e-13,  6.25277607e-13,  2.11386464e-13,\n",
       "        2.29150032e-13, -1.27897692e-13, -6.39488462e-14,  1.55608859e-12,\n",
       "        1.64490643e-12, -2.99138492e-12, -1.06936682e-12,  8.73967565e-13,\n",
       "       -3.76587650e-13, -1.38555833e-13, -3.27915473e-12,  9.20152843e-13,\n",
       "       -1.52056145e-12,  1.47792889e-12, -1.48858703e-12,  5.68434189e-13,\n",
       "       -5.75184345e-12,  2.02504680e-12, -9.91207116e-13,  4.92761387e-12,\n",
       "        1.48787649e-11,  2.84217094e-13, -6.33804120e-12, -1.55679913e-11,\n",
       "        8.59046168e-12, -6.38422648e-12,  6.49436060e-12, -1.19229071e-11,\n",
       "       -1.69890768e-11,  1.78914661e-11, -1.21502808e-11, -1.62998504e-11,\n",
       "        8.70414851e-12,  1.17665877e-11, -3.02406988e-11,  2.83506552e-12,\n",
       "        2.59348099e-12, -3.99822397e-11,  2.01652028e-11,  2.75122147e-11,\n",
       "        5.82645043e-13, -1.43316470e-11,  3.90798505e-12, -4.19930757e-11,\n",
       "       -3.84901000e-11, -1.83391080e-11,  2.84856583e-11,  1.35216283e-11,\n",
       "       -1.84670057e-11,  5.16706677e-11,  4.76276796e-11,  2.05488959e-11,\n",
       "        9.40758582e-12, -1.55111479e-11, -2.02220463e-11,  4.86934937e-11,\n",
       "       -4.02238243e-11,  8.66151595e-12, -4.84234874e-11, -1.05444542e-11,\n",
       "       -2.60911293e-11, -7.42019779e-11, -1.90496507e-11, -4.63131755e-11,\n",
       "       -3.20667937e-11, -7.40385531e-12, -9.29460953e-11,  1.76569870e-11,\n",
       "       -7.34061700e-11, -5.57136559e-11,  1.33084654e-11, -6.94058144e-11,\n",
       "        5.83781912e-11,  4.73363571e-11,  1.11853637e-10,  1.71240799e-11,\n",
       "       -3.87103682e-11,  5.55644419e-11,  1.42392764e-10,  2.20836682e-11,\n",
       "       -1.00243369e-10,  8.23661139e-11,  1.04165565e-10, -1.23634436e-10,\n",
       "        1.03881348e-10, -6.81694701e-11, -2.62502908e-10, -1.29830369e-10,\n",
       "       -6.95195013e-11, -8.69704309e-12, -8.00781663e-11,  5.55786528e-11,\n",
       "       -1.51260338e-10, -2.31807462e-10,  1.35514711e-10,  1.25226052e-10,\n",
       "       -1.01906039e-10,  1.93082883e-10, -9.19868626e-11, -2.47084131e-10,\n",
       "        1.85195859e-10, -2.51390020e-11, -3.13562509e-10, -1.21858079e-10,\n",
       "       -1.56617830e-10, -3.14400950e-10,  1.25197630e-11, -2.63696620e-10,\n",
       "       -8.88178420e-12, -7.75912667e-11, -4.07851530e-11,  7.10542736e-14,\n",
       "        9.12905307e-11, -2.25867325e-10, -4.53894700e-11, -2.17255547e-10,\n",
       "        4.95958830e-11, -1.25268684e-10, -3.25712790e-10, -6.35367314e-11,\n",
       "       -4.52772042e-10, -2.62602384e-10,  1.40502721e-10, -2.62076583e-10,\n",
       "        7.27595761e-11,  2.47155185e-10,  1.79198878e-11,  2.41811904e-10,\n",
       "       -3.34296146e-10,  1.77166726e-10,  1.56163082e-10,  5.10596010e-11,\n",
       "        1.37902134e-10,  1.26476607e-12,  1.41127998e-10, -1.55154112e-10,\n",
       "        4.59067451e-10, -4.63330707e-10,  1.45689683e-10, -3.22771143e-10,\n",
       "       -3.42822659e-10, -1.37589495e-10,  4.26567226e-10,  8.42817371e-10,\n",
       "        2.17497131e-10,  3.30899752e-10,  1.44353862e-10,  9.86034365e-10,\n",
       "        7.48997309e-10, -7.08510584e-10, -2.99209546e-10, -3.38246764e-10,\n",
       "        2.23181473e-10, -4.41190195e-10,  6.48753939e-10, -5.97921712e-10,\n",
       "        2.68016720e-11,  7.70484121e-10,  1.04307674e-10, -6.18527451e-10,\n",
       "        2.41030307e-10, -4.72297756e-10,  3.71571218e-10, -2.81303869e-10,\n",
       "        3.30828698e-11,  3.50141249e-10, -6.05496098e-10,  2.34905428e-10,\n",
       "        1.63424829e-11,  7.09619030e-10,  5.37738742e-11,  7.49366791e-10,\n",
       "        1.17697141e-09, -3.81447762e-10, -1.11759846e-09, -1.10107123e-09,\n",
       "       -6.03108674e-11, -9.43074951e-10, -4.39527525e-10,  1.03908349e-09,\n",
       "        5.15711918e-10, -1.06268772e-10, -8.87609986e-10,  1.11919007e-09,\n",
       "        2.54800625e-10, -1.72718728e-09,  1.98184580e-10, -1.28613920e-09,\n",
       "        1.09113785e-09, -7.43852979e-10,  1.06280140e-09, -2.58239652e-10,\n",
       "       -5.26711119e-10,  1.04159881e-09,  6.75271394e-10, -1.33431399e-09,\n",
       "        9.64803348e-10,  1.09565690e-10, -1.36958533e-09, -7.73582087e-10,\n",
       "        3.09142933e-10, -4.14701162e-10,  1.61080038e-09, -6.20900664e-10,\n",
       "        9.98511496e-10,  2.76742185e-10, -1.74821935e-10, -1.43421630e-09,\n",
       "        2.10823714e-09,  1.14260956e-09,  2.31159447e-09,  2.63838729e-10,\n",
       "        3.06044967e-10, -1.46764023e-09, -1.41307055e-09,  3.39184680e-10,\n",
       "        3.45636408e-10, -4.07027301e-10,  4.85727014e-10,  4.40053327e-10,\n",
       "        6.93944457e-10,  1.47991841e-09, -8.59103011e-10, -9.26206667e-10,\n",
       "       -1.70115300e-09,  1.92159177e-10, -1.54014401e-09, -4.08135747e-10,\n",
       "        2.99866088e-09, -9.47011358e-11,  8.14395662e-10,  2.29547936e-09,\n",
       "       -1.00880015e-09, -1.25208999e-09, -9.60284297e-10,  1.15406351e-09,\n",
       "        2.72365241e-10,  2.31111130e-09,  9.44851308e-10, -7.63122898e-11,\n",
       "        1.50515689e-09,  3.46778961e-09, -1.18510002e-09, -2.40419240e-09,\n",
       "        8.25991719e-10, -1.04634523e-09, -5.10880227e-10, -7.00509872e-10,\n",
       "       -1.34190259e-09, -1.17972832e-09, -8.24684321e-10,  7.77959031e-10,\n",
       "       -5.59964519e-10, -1.03892717e-09,  2.78021162e-10,  3.70249609e-10,\n",
       "        1.43441525e-09,  2.39813858e-09, -3.04220293e-09,  1.30512490e-10,\n",
       "       -6.15102635e-10, -1.45251988e-09,  7.05114189e-10, -2.45557885e-09,\n",
       "       -9.03980890e-10, -3.21963967e-09,  4.19504431e-10,  2.91549895e-10,\n",
       "        3.35518280e-10,  2.25514896e-09,  4.16633839e-10, -1.60270019e-10,\n",
       "       -7.95296273e-10, -3.21469429e-09,  4.22829771e-10, -2.56031285e-09,\n",
       "        1.45320200e-10, -8.52594439e-10,  8.35143510e-10,  3.61808361e-11,\n",
       "        1.32877176e-09,  3.32389050e-09, -9.93821914e-10, -2.86243562e-09,\n",
       "        1.61335834e-09, -1.57308477e-09,  2.54638621e-09,  1.93440997e-09,\n",
       "        3.06954462e-11,  2.38773623e-09,  2.62267008e-09, -1.05055165e-09,\n",
       "        2.20751417e-09, -1.20397203e-09])"
      ]
     },
     "execution_count": 62,
     "metadata": {},
     "output_type": "execute_result"
    }
   ],
   "source": [
    "lambda_n = np.array(roots)\n",
    "# check the roots\n",
    "np.tan(lambda_n * L) + 2 * lambda_n"
   ]
  },
  {
   "cell_type": "code",
   "execution_count": 63,
   "metadata": {},
   "outputs": [
    {
     "data": {
      "text/plain": [
       "(-1, 1)"
      ]
     },
     "execution_count": 63,
     "metadata": {},
     "output_type": "execute_result"
    },
    {
     "data": {
      "image/png": "[encoded data removed]",
      "text/plain": [
       "<Figure size 432x288 with 1 Axes>"
      ]
     },
     "metadata": {
      "needs_background": "light"
     },
     "output_type": "display_data"
    }
   ],
   "source": [
    "# check if there are no missing roots\n",
    "plt.plot(lam_test, residue_homogeneous(lam_test))\n",
    "plt.scatter(roots, residue_homogeneous(np.array(roots)))\n",
    "plt.xlim(-1, 11)\n",
    "plt.ylim(-1, 1)"
   ]
  },
  {
   "cell_type": "code",
   "execution_count": 64,
   "metadata": {},
   "outputs": [
    {
     "data": {
      "text/plain": [
       "(-1, 1)"
      ]
     },
     "execution_count": 64,
     "metadata": {},
     "output_type": "execute_result"
    },
    {
     "data": {
      "image/png": "[encoded data removed]",
      "text/plain": [
       "<Figure size 432x288 with 1 Axes>"
      ]
     },
     "metadata": {
      "needs_background": "light"
     },
     "output_type": "display_data"
    }
   ],
   "source": [
    "plt.plot(lam_test, residue_homogeneous(lam_test))\n",
    "plt.scatter(roots, residue_homogeneous(np.array(roots)))\n",
    "plt.xlim(10, 21)\n",
    "plt.ylim(-1, 1)"
   ]
  },
  {
   "cell_type": "code",
   "execution_count": 65,
   "metadata": {},
   "outputs": [
    {
     "data": {
      "text/plain": [
       "(-1, 1)"
      ]
     },
     "execution_count": 65,
     "metadata": {},
     "output_type": "execute_result"
    },
    {
     "data": {
      "image/png": "[encoded data removed]",
      "text/plain": [
       "<Figure size 432x288 with 1 Axes>"
      ]
     },
     "metadata": {
      "needs_background": "light"
     },
     "output_type": "display_data"
    }
   ],
   "source": [
    "plt.plot(lam_test, residue_homogeneous(lam_test))\n",
    "plt.scatter(roots, residue_homogeneous(np.array(roots)))\n",
    "plt.xlim(20, 31)\n",
    "plt.ylim(-1, 1)"
   ]
  },
  {
   "cell_type": "code",
   "execution_count": 66,
   "metadata": {},
   "outputs": [
    {
     "data": {
      "text/plain": [
       "(-1, 1)"
      ]
     },
     "execution_count": 66,
     "metadata": {},
     "output_type": "execute_result"
    },
    {
     "data": {
      "image/png": "[encoded data removed]",
      "text/plain": [
       "<Figure size 432x288 with 1 Axes>"
      ]
     },
     "metadata": {
      "needs_background": "light"
     },
     "output_type": "display_data"
    }
   ],
   "source": [
    "plt.plot(lam_test, residue_homogeneous(lam_test))\n",
    "plt.scatter(roots, residue_homogeneous(np.array(roots)))\n",
    "plt.xlim(30, 41)\n",
    "plt.ylim(-1, 1)"
   ]
  },
  {
   "cell_type": "code",
   "execution_count": 67,
   "metadata": {},
   "outputs": [
    {
     "data": {
      "text/plain": [
       "(-1, 1)"
      ]
     },
     "execution_count": 67,
     "metadata": {},
     "output_type": "execute_result"
    },
    {
     "data": {
      "image/png": "[encoded data removed]",
      "text/plain": [
       "<Figure size 432x288 with 1 Axes>"
      ]
     },
     "metadata": {
      "needs_background": "light"
     },
     "output_type": "display_data"
    }
   ],
   "source": [
    "plt.plot(lam_test, residue_homogeneous(lam_test))\n",
    "plt.scatter(roots, residue_homogeneous(np.array(roots)))\n",
    "plt.xlim(40, 51)\n",
    "plt.ylim(-1, 1)"
   ]
  },
  {
   "cell_type": "code",
   "execution_count": 68,
   "metadata": {},
   "outputs": [
    {
     "data": {
      "text/plain": [
       "(-1, 1)"
      ]
     },
     "execution_count": 68,
     "metadata": {},
     "output_type": "execute_result"
    },
    {
     "data": {
      "image/png": "[encoded data removed]",
      "text/plain": [
       "<Figure size 432x288 with 1 Axes>"
      ]
     },
     "metadata": {
      "needs_background": "light"
     },
     "output_type": "display_data"
    }
   ],
   "source": [
    "plt.plot(lam_test, residue_homogeneous(lam_test))\n",
    "plt.scatter(roots, residue_homogeneous(np.array(roots)))\n",
    "plt.xlim(50, 61)\n",
    "plt.ylim(-1, 1)"
   ]
  },
  {
   "cell_type": "code",
   "execution_count": 69,
   "metadata": {},
   "outputs": [
    {
     "data": {
      "text/plain": [
       "(-1, 1)"
      ]
     },
     "execution_count": 69,
     "metadata": {},
     "output_type": "execute_result"
    },
    {
     "data": {
      "image/png": "[encoded data removed]",
      "text/plain": [
       "<Figure size 432x288 with 1 Axes>"
      ]
     },
     "metadata": {
      "needs_background": "light"
     },
     "output_type": "display_data"
    }
   ],
   "source": [
    "plt.plot(lam_test, residue_homogeneous(lam_test))\n",
    "plt.scatter(roots, residue_homogeneous(np.array(roots)))\n",
    "plt.xlim(60, 71)\n",
    "plt.ylim(-1, 1)"
   ]
  },
  {
   "cell_type": "code",
   "execution_count": 70,
   "metadata": {},
   "outputs": [
    {
     "data": {
      "text/plain": [
       "(-1, 1)"
      ]
     },
     "execution_count": 70,
     "metadata": {},
     "output_type": "execute_result"
    },
    {
     "data": {
      "image/png": "[encoded data removed]",
      "text/plain": [
       "<Figure size 432x288 with 1 Axes>"
      ]
     },
     "metadata": {
      "needs_background": "light"
     },
     "output_type": "display_data"
    }
   ],
   "source": [
    "plt.plot(lam_test, residue_homogeneous(lam_test))\n",
    "plt.scatter(roots, residue_homogeneous(np.array(roots)))\n",
    "plt.xlim(70, 81)\n",
    "plt.ylim(-1, 1)"
   ]
  },
  {
   "cell_type": "code",
   "execution_count": 71,
   "metadata": {},
   "outputs": [
    {
     "data": {
      "text/plain": [
       "(-1, 1)"
      ]
     },
     "execution_count": 71,
     "metadata": {},
     "output_type": "execute_result"
    },
    {
     "data": {
      "image/png": "[encoded data removed]",
      "text/plain": [
       "<Figure size 432x288 with 1 Axes>"
      ]
     },
     "metadata": {
      "needs_background": "light"
     },
     "output_type": "display_data"
    }
   ],
   "source": [
    "plt.plot(lam_test, residue_homogeneous(lam_test))\n",
    "plt.scatter(roots, residue_homogeneous(np.array(roots)))\n",
    "plt.xlim(80, 91)\n",
    "plt.ylim(-1, 1)"
   ]
  },
  {
   "cell_type": "code",
   "execution_count": 72,
   "metadata": {},
   "outputs": [
    {
     "data": {
      "text/plain": [
       "(-1, 1)"
      ]
     },
     "execution_count": 72,
     "metadata": {},
     "output_type": "execute_result"
    },
    {
     "data": {
      "image/png": "[encoded data removed]",
      "text/plain": [
       "<Figure size 432x288 with 1 Axes>"
      ]
     },
     "metadata": {
      "needs_background": "light"
     },
     "output_type": "display_data"
    }
   ],
   "source": [
    "plt.plot(lam_test, residue_homogeneous(lam_test))\n",
    "plt.scatter(roots, residue_homogeneous(np.array(roots)))\n",
    "plt.xlim(90, 101)\n",
    "plt.ylim(-1, 1)"
   ]
  },
  {
   "cell_type": "code",
   "execution_count": 87,
   "metadata": {},
   "outputs": [],
   "source": [
    "# summation in Equation 12a in their paper (Srivastva and Yeh, 1991)\n",
    "residue_sum = np.zeros(t_mesh.shape)\n",
    "for i in roots:\n",
    "    numerator = np.sin(i*L) * np.sin(i*z_mesh) * np.exp(-i**2 * t_mesh)\n",
    "    denominator = 1 + (L/2) + 2*i**2 * L\n",
    "    residue_sum += numerator/denominator"
   ]
  },
  {
   "cell_type": "code",
   "execution_count": 88,
   "metadata": {},
   "outputs": [],
   "source": [
    "# summation in Equation 12b in their paper (Srivastva and Yeh, 1991)\n",
    "residue_sum_flux = np.zeros(t_mesh[0,:].shape)\n",
    "for i in roots:\n",
    "    numerator = i* np.sin(i*L) * np.exp(-i**2 * t_mesh[0,:])\n",
    "    denominator = 1 +(L/2) + 2*i**2 * L\n",
    "    residue_sum_flux += numerator/denominator"
   ]
  },
  {
   "cell_type": "code",
   "execution_count": 89,
   "metadata": {},
   "outputs": [],
   "source": [
    "# Equation 12a in their paper (Srivastva and Yeh, 1991)\n",
    "K = q_B - (q_B - np.exp(alpha * psi_0))*np.exp(-z_mesh) - 4* (q_B - q_A) * \\\n",
    "    np.exp((L - z_mesh)/2)*np.exp(-t_mesh/4) * residue_sum"
   ]
  },
  {
   "cell_type": "code",
   "execution_count": 90,
   "metadata": {},
   "outputs": [],
   "source": [
    "# transformation\n",
    "K_star = K * K_s\n",
    "psi = np.log(K_star/K_s)/alpha"
   ]
  },
  {
   "cell_type": "code",
   "execution_count": 91,
   "metadata": {},
   "outputs": [],
   "source": [
    "# the initial condition is used for the solution at t = 0 because the numerical solution is unstable at t = 0.\n",
    "psi[:, 0] = psi_ini.flatten()"
   ]
  },
  {
   "cell_type": "code",
   "execution_count": 92,
   "metadata": {},
   "outputs": [
    {
     "data": {
      "text/plain": [
       "(0, 10)"
      ]
     },
     "execution_count": 92,
     "metadata": {},
     "output_type": "execute_result"
    },
    {
     "data": {
      "image/png": "[encoded data removed]",
      "text/plain": [
       "<Figure size 432x288 with 1 Axes>"
      ]
     },
     "metadata": {
      "needs_background": "light"
     },
     "output_type": "display_data"
    }
   ],
   "source": [
    "# dt = 0.1 hours\n",
    "plt.plot(psi[:, 0], z_star, label = \"t = 0\")\n",
    "plt.plot(psi[:, 1], z_star, label = \"t = 0.1 hour\")\n",
    "plt.plot(psi[:, 10], z_star, label = \"t = 1 hour\")\n",
    "plt.plot(psi[:, 30], z_star, label = \"t = 3 hour\")\n",
    "plt.plot(psi[:, 50], z_star, label = \"t = 5 hour\")\n",
    "plt.plot(psi[:, 100], z_star, label = \"t = 10 hour\")\n",
    "\n",
    "plt.xlabel(\"$\\\\psi$ cm\")\n",
    "plt.ylabel(\"$z$ cm\")\n",
    "plt.legend(bbox_to_anchor=(1.05, 1), loc='upper left',)\n",
    "plt.xlim(-3, 0.5)\n",
    "plt.ylim(0, 10)"
   ]
  },
  {
   "cell_type": "code",
   "execution_count": 93,
   "metadata": {},
   "outputs": [],
   "source": [
    "# bottom water flux\n",
    "q_t = K_s * q_B - 4*K_s*(q_B - q_A)*np.exp(L/2)*np.exp(-t_mesh[0,:]/4)*residue_sum_flux\n",
    "\n",
    "q_t[0] = q_A"
   ]
  },
  {
   "cell_type": "code",
   "execution_count": 94,
   "metadata": {},
   "outputs": [
    {
     "data": {
      "text/plain": [
       "(0, 10)"
      ]
     },
     "execution_count": 94,
     "metadata": {},
     "output_type": "execute_result"
    },
    {
     "data": {
      "image/png": "[encoded data removed]",
      "text/plain": [
       "<Figure size 432x288 with 1 Axes>"
      ]
     },
     "metadata": {
      "needs_background": "light"
     },
     "output_type": "display_data"
    }
   ],
   "source": [
    "plt.plot(t_star, q_t, label = \"bottom_flux\")\n",
    "plt.xlabel(\"$t$ hour\")\n",
    "plt.ylabel(\"$q$ cm/hour\")\n",
    "plt.legend(bbox_to_anchor=(1.05, 1), loc='upper left',)\n",
    "plt.ylim(0.1, 0.92)\n",
    "plt.xlim(0, 10)"
   ]
  },
  {
   "cell_type": "code",
   "execution_count": 96,
   "metadata": {},
   "outputs": [],
   "source": [
    "# save solutions\n",
    "# psi: each column for each time (0, 0.1, 0.2, ..., 10 hours)\n",
    "# each row for each depth (0, 0.1, 0.2, ..., 10 cm)\n",
    "\n",
    "# numpy format\n",
    "np.save(\"Srivastava_psi_homogeneous\", psi)\n",
    "# matlab format\n",
    "matlab_data = {'data':psi}\n",
    "scipy.io.savemat(\"Srivastava_psi_homogeneous\", matlab_data)"
   ]
  }
 ],
 "metadata": {
  "@webio": {
   "lastCommId": null,
   "lastKernelId": null
  },
  "kernelspec": {
   "display_name": "Python 3",
   "language": "python",
   "name": "python3"
  },
  "language_info": {
   "codemirror_mode": {
    "name": "ipython",
    "version": 3
   },
   "file_extension": ".py",
   "mimetype": "text/x-python",
   "name": "python",
   "nbconvert_exporter": "python",
   "pygments_lexer": "ipython3",
   "version": "3.7.3"
  }
 },
 "nbformat": 4,
 "nbformat_minor": 2
}
